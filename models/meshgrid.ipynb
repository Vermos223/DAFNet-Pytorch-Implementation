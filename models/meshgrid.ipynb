{
 "cells": [
  {
   "cell_type": "code",
   "execution_count": 1,
   "id": "21135800",
   "metadata": {},
   "outputs": [],
   "source": [
    "import torch"
   ]
  },
  {
   "cell_type": "code",
   "execution_count": 2,
   "id": "9931082c",
   "metadata": {},
   "outputs": [
    {
     "name": "stdout",
     "output_type": "stream",
     "text": [
      "indexing='ij':\n",
      "yy (y坐标):\n",
      "tensor([[0, 0, 0, 0],\n",
      "        [1, 1, 1, 1],\n",
      "        [2, 2, 2, 2]])\n",
      "xx (x坐标):\n",
      "tensor([[0, 1, 2, 3],\n",
      "        [0, 1, 2, 3],\n",
      "        [0, 1, 2, 3]])\n"
     ]
    }
   ],
   "source": [
    "# 示例：创建 3x4 的网格\n",
    "y = torch.arange(3)  # [0, 1, 2]\n",
    "x = torch.arange(4)  # [0, 1, 2, 3]\n",
    "\n",
    "yy, xx = torch.meshgrid(y, x, indexing='ij')\n",
    "print(\"indexing='ij':\")\n",
    "print(\"yy (y坐标):\")\n",
    "print(yy)\n",
    "print(\"xx (x坐标):\")\n",
    "print(xx)"
   ]
  },
  {
   "cell_type": "code",
   "execution_count": 3,
   "id": "e9b9a46a",
   "metadata": {},
   "outputs": [
    {
     "name": "stdout",
     "output_type": "stream",
     "text": [
      "indexing='ij':\n",
      "yy (y坐标):\n",
      "tensor([[0, 1, 2],\n",
      "        [0, 1, 2],\n",
      "        [0, 1, 2],\n",
      "        [0, 1, 2]])\n",
      "xx (x坐标):\n",
      "tensor([[0, 0, 0],\n",
      "        [1, 1, 1],\n",
      "        [2, 2, 2],\n",
      "        [3, 3, 3]])\n"
     ]
    }
   ],
   "source": [
    "# 示例：创建 3x4 的网格\n",
    "y = torch.arange(3)  # [0, 1, 2]\n",
    "x = torch.arange(4)  # [0, 1, 2, 3]\n",
    "\n",
    "yy, xx = torch.meshgrid(y, x, indexing='xy')\n",
    "print(\"indexing='ij':\")\n",
    "print(\"yy (y坐标):\")\n",
    "print(yy)\n",
    "print(\"xx (x坐标):\")\n",
    "print(xx)"
   ]
  },
  {
   "cell_type": "code",
   "execution_count": 5,
   "id": "6a292788",
   "metadata": {},
   "outputs": [
    {
     "name": "stdout",
     "output_type": "stream",
     "text": [
      "tensor([[[0, 0],\n",
      "         [0, 1],\n",
      "         [0, 2],\n",
      "         [0, 3],\n",
      "         [0, 4],\n",
      "         [1, 0],\n",
      "         [1, 1],\n",
      "         [1, 2],\n",
      "         [1, 3],\n",
      "         [1, 4],\n",
      "         [2, 0],\n",
      "         [2, 1],\n",
      "         [2, 2],\n",
      "         [2, 3],\n",
      "         [2, 4],\n",
      "         [3, 0],\n",
      "         [3, 1],\n",
      "         [3, 2],\n",
      "         [3, 3],\n",
      "         [3, 4],\n",
      "         [4, 0],\n",
      "         [4, 1],\n",
      "         [4, 2],\n",
      "         [4, 3],\n",
      "         [4, 4]]])\n"
     ]
    }
   ],
   "source": [
    "dims = (5, 5)\n",
    "y, x = torch.meshgrid(torch.arange(dims[0]), torch.arange(dims[1]), indexing='ij')\n",
    "grid = torch.stack([y.flatten(), x.flatten()], dim=1).unsqueeze(0)\n",
    "print(grid)"
   ]
  },
  {
   "cell_type": "code",
   "execution_count": 6,
   "id": "50cc9a9a",
   "metadata": {},
   "outputs": [
    {
     "name": "stdout",
     "output_type": "stream",
     "text": [
      "tensor([[[0.0000, 0.0000],\n",
      "         [0.0000, 0.2500],\n",
      "         [0.0000, 0.5000],\n",
      "         [0.0000, 0.7500],\n",
      "         [0.0000, 1.0000],\n",
      "         [0.2500, 0.0000],\n",
      "         [0.2500, 0.2500],\n",
      "         [0.2500, 0.5000],\n",
      "         [0.2500, 0.7500],\n",
      "         [0.2500, 1.0000],\n",
      "         [0.5000, 0.0000],\n",
      "         [0.5000, 0.2500],\n",
      "         [0.5000, 0.5000],\n",
      "         [0.5000, 0.7500],\n",
      "         [0.5000, 1.0000],\n",
      "         [0.7500, 0.0000],\n",
      "         [0.7500, 0.2500],\n",
      "         [0.7500, 0.5000],\n",
      "         [0.7500, 0.7500],\n",
      "         [0.7500, 1.0000],\n",
      "         [1.0000, 0.0000],\n",
      "         [1.0000, 0.2500],\n",
      "         [1.0000, 0.5000],\n",
      "         [1.0000, 0.7500],\n",
      "         [1.0000, 1.0000]]])\n"
     ]
    }
   ],
   "source": [
    "grid = grid / (torch.tensor(dims, ).unsqueeze(0).unsqueeze(0) - 1)\n",
    "print(grid)\n"
   ]
  },
  {
   "cell_type": "code",
   "execution_count": null,
   "id": "096e0dec",
   "metadata": {},
   "outputs": [],
   "source": []
  }
 ],
 "metadata": {
  "kernelspec": {
   "display_name": "pytorch_env",
   "language": "python",
   "name": "python3"
  },
  "language_info": {
   "codemirror_mode": {
    "name": "ipython",
    "version": 3
   },
   "file_extension": ".py",
   "mimetype": "text/x-python",
   "name": "python",
   "nbconvert_exporter": "python",
   "pygments_lexer": "ipython3",
   "version": "3.10.10"
  }
 },
 "nbformat": 4,
 "nbformat_minor": 5
}
